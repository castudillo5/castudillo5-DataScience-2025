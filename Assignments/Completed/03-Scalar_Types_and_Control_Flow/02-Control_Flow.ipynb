{
  "cells": [
    {
      "cell_type": "markdown",
      "id": "d691fc24",
      "metadata": {
        "id": "d691fc24"
      },
      "source": [
        "#carlos Astudillo\n",
        "# 📘 02 - Control Flow\n",
        "\n",
        "Learn how to use conditional logic in Python."
      ]
    },
    {
      "cell_type": "markdown",
      "id": "07e43ba3",
      "metadata": {
        "id": "07e43ba3"
      },
      "source": [
        "## ✅ Learning Goals\n",
        "- Write `if`, `elif`, `else` statements\n",
        "- Understand truthy/falsy values\n",
        "- Combine conditions using `and`, `or`, `not`"
      ]
    },
    {
      "cell_type": "code",
      "execution_count": 1,
      "id": "3c8cac6d",
      "metadata": {
        "id": "3c8cac6d",
        "outputId": "06bcedc7-5680-4504-c7eb-b84295bdee24",
        "colab": {
          "base_uri": "https://localhost:8080/"
        }
      },
      "outputs": [
        {
          "output_type": "stream",
          "name": "stdout",
          "text": [
            "You are an adult.\n"
          ]
        }
      ],
      "source": [
        "# 🔧 Basic example\n",
        "age = 20\n",
        "if age >= 18:\n",
        "    print('You are an adult.')\n",
        "else:\n",
        "    print('You are a minor.')"
      ]
    },
    {
      "cell_type": "markdown",
      "id": "ae0d2437",
      "metadata": {
        "id": "ae0d2437"
      },
      "source": [
        "## 🔀 Multiple Branches"
      ]
    },
    {
      "cell_type": "code",
      "execution_count": 2,
      "id": "e2527038",
      "metadata": {
        "id": "e2527038",
        "outputId": "2cfe0b84-abda-4d14-9d2c-b952dc6f0b33",
        "colab": {
          "base_uri": "https://localhost:8080/"
        }
      },
      "outputs": [
        {
          "output_type": "stream",
          "name": "stdout",
          "text": [
            "Just right.\n"
          ]
        }
      ],
      "source": [
        "temp = 72\n",
        "if temp > 90:\n",
        "    print('Too hot!')\n",
        "elif temp < 60:\n",
        "    print('Too cold!')\n",
        "else:\n",
        "    print('Just right.')"
      ]
    },
    {
      "cell_type": "markdown",
      "id": "b2aa7088",
      "metadata": {
        "id": "b2aa7088"
      },
      "source": [
        "### ✏️ Your Turn\n",
        "Use `input()` to ask a user their grade and print a message based on value."
      ]
    },
    {
      "cell_type": "code",
      "execution_count": null,
      "id": "f096a974",
      "metadata": {
        "id": "f096a974"
      },
      "outputs": [],
      "source": [
        "# Example:\n",
        "# grade = int(input('Enter your score: '))\n",
        "# if grade >= 90:\n",
        "#     print('A')\n",
        "# elif grade >= 80:\n",
        "#     print('B')\n",
        "# ..."
      ]
    },
    {
      "cell_type": "code",
      "source": [
        "grade = int(input('Enter your score: '))\n",
        "if grade >= 90:\n",
        "  print('A')\n",
        "elif grade >= 80:\n",
        "  print('B')\n",
        "elif grade >= 70:\n",
        "  print('C')\n",
        "elif grade >= 60:\n",
        "  print('D')\n",
        "else:\n",
        "  print('F')\n"
      ],
      "metadata": {
        "id": "Kt9Tk385h2Lh",
        "outputId": "3d6eea8b-5d33-40e0-9430-86d60b8a68f1",
        "colab": {
          "base_uri": "https://localhost:8080/"
        }
      },
      "id": "Kt9Tk385h2Lh",
      "execution_count": 7,
      "outputs": [
        {
          "output_type": "stream",
          "name": "stdout",
          "text": [
            "Enter your score: 90\n",
            "A\n"
          ]
        }
      ]
    }
  ],
  "metadata": {
    "colab": {
      "provenance": []
    },
    "language_info": {
      "name": "python"
    },
    "kernelspec": {
      "name": "python3",
      "display_name": "Python 3"
    }
  },
  "nbformat": 4,
  "nbformat_minor": 5
}