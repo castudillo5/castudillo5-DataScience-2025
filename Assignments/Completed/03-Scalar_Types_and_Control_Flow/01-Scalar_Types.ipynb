{
  "cells": [
    {
      "cell_type": "markdown",
      "id": "c224876d",
      "metadata": {
        "id": "c224876d"
      },
      "source": [
        "#Carlos Astudillo\n",
        "# 📘 01 - Scalar Types\n",
        "\n",
        "Review and practice working with Python's basic scalar data types."
      ]
    },
    {
      "cell_type": "markdown",
      "id": "39c1942a",
      "metadata": {
        "id": "39c1942a"
      },
      "source": [
        "## ✅ Learning Goals\n",
        "- Recognize scalar types (`int`, `float`, `str`, `bool`)\n",
        "- Use the `type()` function to identify types\n",
        "- Use variables and assignment"
      ]
    },
    {
      "cell_type": "code",
      "execution_count": 12,
      "id": "0cf15b63",
      "metadata": {
        "id": "0cf15b63"
      },
      "outputs": [],
      "source": [
        "# 🔧 Define some variables\n",
        "num = 42\n",
        "pi = 3.14159\n",
        "name = 'Python'\n",
        "is_cool = True\n",
        "best_soccerteam = 'Arsenal'\n",
        "best_cfb = 'Oklahoma'\n",
        "num_heismans = 7\n",
        "favorite_color = 'blue'"
      ]
    },
    {
      "cell_type": "code",
      "execution_count": 18,
      "id": "7c8e8452",
      "metadata": {
        "colab": {
          "base_uri": "https://localhost:8080/"
        },
        "id": "7c8e8452",
        "outputId": "d8f5d5e2-7607-4e38-ee74-b195d4779a3a"
      },
      "outputs": [
        {
          "output_type": "stream",
          "name": "stdout",
          "text": [
            "<class 'int'>\n",
            "<class 'float'>\n",
            "<class 'str'>\n",
            "<class 'bool'>\n",
            "<class 'str'>\n",
            "<class 'str'>\n",
            "<class 'int'>\n",
            "<class 'str'>\n"
          ]
        }
      ],
      "source": [
        "# 🔍 Check their types\n",
        "print(type(num))\n",
        "print(type(pi))\n",
        "print(type(name))\n",
        "print(type(is_cool))\n",
        "print(type(best_soccerteam))\n",
        "print(type(best_cfb))\n",
        "print(type(num_heismans))\n",
        "print(type(favorite_color))"
      ]
    },
    {
      "cell_type": "markdown",
      "id": "2c345a8b",
      "metadata": {
        "id": "2c345a8b"
      },
      "source": [
        "### ✏️ Your Turn\n",
        "Create your own variables of each type and print them."
      ]
    },
    {
      "cell_type": "code",
      "execution_count": 11,
      "id": "038b4f44",
      "metadata": {
        "id": "038b4f44"
      },
      "outputs": [],
      "source": [
        "num = 67\n",
        "pi = 3.14\n",
        "name = 'Carlos'\n",
        "is_cool = False\n",
        "best_soccerteam = 'Arsenal'\n",
        "best_cfb = 'Oklahoma'\n",
        "num_heismans = 7\n",
        "favorite_color = 'blue'\n"
      ]
    },
    {
      "cell_type": "code",
      "source": [
        "print(type(num))\n",
        "print(type(pi))\n",
        "print(type(name))\n",
        "print(type(is_cool))\n",
        "print(type(best_soccerteam))\n",
        "print(type(best_cfb))\n",
        "print(type(num_heismans))\n",
        "print(type(favorite_color))\n"
      ],
      "metadata": {
        "colab": {
          "base_uri": "https://localhost:8080/"
        },
        "id": "5Ci92q3odmSu",
        "outputId": "fb0480d9-9575-42c0-c33e-f8cb9768f0d8"
      },
      "id": "5Ci92q3odmSu",
      "execution_count": 19,
      "outputs": [
        {
          "output_type": "stream",
          "name": "stdout",
          "text": [
            "<class 'int'>\n",
            "<class 'float'>\n",
            "<class 'str'>\n",
            "<class 'bool'>\n",
            "<class 'str'>\n",
            "<class 'str'>\n",
            "<class 'int'>\n",
            "<class 'str'>\n"
          ]
        }
      ]
    },
    {
      "cell_type": "markdown",
      "id": "f02be606",
      "metadata": {
        "id": "f02be606"
      },
      "source": [
        "## ⚖️ Comparison Practice\n",
        "Use comparison operators to check values."
      ]
    },
    {
      "cell_type": "code",
      "execution_count": null,
      "id": "9bf84dc7",
      "metadata": {
        "id": "9bf84dc7"
      },
      "outputs": [],
      "source": [
        "x = 10\n",
        "y = 5\n",
        "print(x > y)\n",
        "print(x == y)\n",
        "print(x != y)"
      ]
    },
    {
      "cell_type": "code",
      "source": [
        "x = 42\n",
        "y = 6\n",
        "print(x > y)\n",
        "print(x == y)\n",
        "print(x != y)"
      ],
      "metadata": {
        "id": "0oBdKUNOhLyB",
        "outputId": "4892c4a5-eee8-46dd-b057-f6d4d8d7acba",
        "colab": {
          "base_uri": "https://localhost:8080/"
        }
      },
      "id": "0oBdKUNOhLyB",
      "execution_count": 21,
      "outputs": [
        {
          "output_type": "stream",
          "name": "stdout",
          "text": [
            "True\n",
            "False\n",
            "True\n"
          ]
        }
      ]
    },
    {
      "cell_type": "markdown",
      "id": "789b6f3d",
      "metadata": {
        "id": "789b6f3d"
      },
      "source": [
        "## 🧠 Quick Check\n",
        "What will the following print? true\n",
        "```python\n",
        "print(3.0 == 3)\n",
        "```"
      ]
    },
    {
      "cell_type": "code",
      "source": [
        "print(3.0 == 3)"
      ],
      "metadata": {
        "id": "2VvxUjjkhCXJ",
        "outputId": "e90fa93f-fdad-46aa-e584-915873be9aed",
        "colab": {
          "base_uri": "https://localhost:8080/"
        }
      },
      "id": "2VvxUjjkhCXJ",
      "execution_count": 20,
      "outputs": [
        {
          "output_type": "stream",
          "name": "stdout",
          "text": [
            "True\n"
          ]
        }
      ]
    }
  ],
  "metadata": {
    "colab": {
      "provenance": []
    },
    "language_info": {
      "name": "python"
    },
    "kernelspec": {
      "name": "python3",
      "display_name": "Python 3"
    }
  },
  "nbformat": 4,
  "nbformat_minor": 5
}