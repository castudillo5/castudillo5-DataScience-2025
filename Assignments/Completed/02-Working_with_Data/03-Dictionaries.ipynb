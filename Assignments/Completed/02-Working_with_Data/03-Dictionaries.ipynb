{
  "cells": [
    {
      "cell_type": "markdown",
      "id": "ba110f51",
      "metadata": {
        "id": "ba110f51"
      },
      "source": [
        "# 📘 03 - Python Dictionaries\n",
        "\n",
        "Dictionaries store key-value pairs for fast lookups."
      ]
    },
    {
      "cell_type": "markdown",
      "id": "32ad5c23",
      "metadata": {
        "id": "32ad5c23"
      },
      "source": [
        "## ✅ Learning Goals\n",
        "- Create and access dictionary items\n",
        "- Use dictionary methods like `.get()` and `.items()`"
      ]
    },
    {
      "cell_type": "code",
      "execution_count": 18,
      "id": "d69a5483",
      "metadata": {
        "id": "d69a5483",
        "outputId": "f01df85a-3f44-41fa-c5f0-35bb23239750",
        "colab": {
          "base_uri": "https://localhost:8080/"
        }
      },
      "outputs": [
        {
          "output_type": "stream",
          "name": "stdout",
          "text": [
            "{'name': 'Alex', 'age': 21, 'major': 'CS'}\n"
          ]
        }
      ],
      "source": [
        "# 📚 Create a Dictionary\n",
        "student = {'name': 'Alex', 'age': 21, 'major': 'CS'}\n",
        "print(student)"
      ]
    },
    {
      "cell_type": "code",
      "execution_count": 19,
      "id": "c014213d",
      "metadata": {
        "id": "c014213d",
        "outputId": "2df46348-c74c-4852-a6f9-65a229c5bbc5",
        "colab": {
          "base_uri": "https://localhost:8080/"
        }
      },
      "outputs": [
        {
          "output_type": "stream",
          "name": "stdout",
          "text": [
            "Alex\n",
            "N/A\n"
          ]
        }
      ],
      "source": [
        "# 🔍 Access Values\n",
        "print(student['name'])\n",
        "print(student.get('gpa', 'N/A'))"
      ]
    },
    {
      "cell_type": "code",
      "execution_count": 20,
      "id": "f80fb0b2",
      "metadata": {
        "id": "f80fb0b2",
        "outputId": "019fef28-a4d2-4455-e898-1e707fbe7897",
        "colab": {
          "base_uri": "https://localhost:8080/"
        }
      },
      "outputs": [
        {
          "output_type": "stream",
          "name": "stdout",
          "text": [
            "name -> Alex\n",
            "age -> 21\n",
            "major -> CS\n"
          ]
        }
      ],
      "source": [
        "# 🔁 Loop Over Dictionary\n",
        "for key, value in student.items():\n",
        "    print(key, '->', value)"
      ]
    },
    {
      "cell_type": "markdown",
      "id": "aa0e1c66",
      "metadata": {
        "id": "aa0e1c66"
      },
      "source": [
        "## ✏️ Your Turn\n",
        "Create a dictionary to store information about your favorite book."
      ]
    },
    {
      "cell_type": "code",
      "source": [
        "book = {'name':'Diary of a wimpy kid: Rodrick Rules','author':'Jeff Kinney','genre':'Comedy','publish date':'2008'}\n",
        "print(book)"
      ],
      "metadata": {
        "id": "qwGf8DP8CTjl",
        "outputId": "85fa1135-a20b-4db7-9612-3f5b213418bf",
        "colab": {
          "base_uri": "https://localhost:8080/"
        }
      },
      "id": "qwGf8DP8CTjl",
      "execution_count": 21,
      "outputs": [
        {
          "output_type": "stream",
          "name": "stdout",
          "text": [
            "{'name': 'Diary of a wimpy kid: Rodrick Rules', 'author': 'Jeff Kinney', 'genre': 'Comedy', 'publish date': '2008'}\n"
          ]
        }
      ]
    },
    {
      "cell_type": "code",
      "source": [
        "print(book['name'])\n",
        "print(book.get('publish date', 'N/A'))"
      ],
      "metadata": {
        "id": "-H2zgwD2Dk7s",
        "outputId": "948daaf5-b2dc-4fc2-b8c6-ca1e56aea539",
        "colab": {
          "base_uri": "https://localhost:8080/"
        }
      },
      "id": "-H2zgwD2Dk7s",
      "execution_count": 22,
      "outputs": [
        {
          "output_type": "stream",
          "name": "stdout",
          "text": [
            "Diary of a wimpy kid: Rodrick Rules\n",
            "2008\n"
          ]
        }
      ]
    },
    {
      "cell_type": "code",
      "source": [
        "for key, value in book.items():\n",
        "    print(key, '->', value)"
      ],
      "metadata": {
        "id": "q1NV-EMMD1-1",
        "outputId": "14ecbeb1-6044-4b20-b4e8-bb377067ddb9",
        "colab": {
          "base_uri": "https://localhost:8080/"
        }
      },
      "id": "q1NV-EMMD1-1",
      "execution_count": 23,
      "outputs": [
        {
          "output_type": "stream",
          "name": "stdout",
          "text": [
            "name -> Diary of a wimpy kid: Rodrick Rules\n",
            "author -> Jeff Kinney\n",
            "genre -> Comedy\n",
            "publish date -> 2008\n"
          ]
        }
      ]
    }
  ],
  "metadata": {
    "colab": {
      "provenance": []
    },
    "language_info": {
      "name": "python"
    },
    "kernelspec": {
      "name": "python3",
      "display_name": "Python 3"
    }
  },
  "nbformat": 4,
  "nbformat_minor": 5
}