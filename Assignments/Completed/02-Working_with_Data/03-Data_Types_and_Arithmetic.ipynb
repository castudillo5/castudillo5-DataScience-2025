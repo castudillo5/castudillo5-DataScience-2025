{
  "cells": [
    {
      "cell_type": "markdown",
      "id": "4b15b08b",
      "metadata": {
        "id": "4b15b08b"
      },
      "source": [
        "# 📘 03 - Data Types and Arithmetic\n",
        "\n",
        "Explore Python basics like variables, data types, and arithmetic operations."
      ]
    },
    {
      "cell_type": "markdown",
      "id": "fe930277",
      "metadata": {
        "id": "fe930277"
      },
      "source": [
        "## ✅ Learning Goals\n",
        "- Understand Python data types\n",
        "- Use variables and print statements\n",
        "- Perform basic arithmetic"
      ]
    },
    {
      "cell_type": "code",
      "execution_count": 37,
      "id": "8e873f5b",
      "metadata": {
        "id": "8e873f5b",
        "outputId": "7d751773-b37b-43fd-cde4-32f87d8a4f5c",
        "colab": {
          "base_uri": "https://localhost:8080/"
        }
      },
      "outputs": [
        {
          "output_type": "stream",
          "name": "stdout",
          "text": [
            "<class 'int'> <class 'float'> <class 'str'>\n"
          ]
        }
      ],
      "source": [
        "# 🧠 Variables and Types\n",
        "x = 10\n",
        "y = 3.5\n",
        "z = 'hello'\n",
        "print(type(x), type(y), type(z))"
      ]
    },
    {
      "cell_type": "code",
      "execution_count": 38,
      "id": "e90e2be4",
      "metadata": {
        "id": "e90e2be4",
        "outputId": "14ea87a7-7eb8-490d-accf-a5202437ee94",
        "colab": {
          "base_uri": "https://localhost:8080/"
        }
      },
      "outputs": [
        {
          "output_type": "stream",
          "name": "stdout",
          "text": [
            "Add: 13.5\n",
            "Divide: 2.857142857142857\n",
            "Floor Divide: 2.0\n",
            "Exponent: 100\n"
          ]
        }
      ],
      "source": [
        "# ➕ Arithmetic Operations\n",
        "print('Add:', x + y)\n",
        "print('Divide:', x / y)\n",
        "print('Floor Divide:', x // y)\n",
        "print('Exponent:', x ** 2)"
      ]
    },
    {
      "cell_type": "markdown",
      "id": "7e233e07",
      "metadata": {
        "id": "7e233e07"
      },
      "source": [
        "## ✏️ Try It Yourself\n",
        "- Create your own variables\n",
        "- Try combining numbers and strings\n",
        "- Use `input()` to interact"
      ]
    },
    {
      "cell_type": "code",
      "execution_count": 39,
      "id": "42b3fc61",
      "metadata": {
        "id": "42b3fc61",
        "outputId": "69ebb741-b5b2-4130-81a0-af766f531e70",
        "colab": {
          "base_uri": "https://localhost:8080/"
        }
      },
      "outputs": [
        {
          "output_type": "stream",
          "name": "stdout",
          "text": [
            "Enter a value for num1: 6\n",
            "Enter a value for num2: 7\n",
            "What is your name: Carlos\n",
            "<class 'int'> <class 'int'> <class 'str'>\n"
          ]
        }
      ],
      "source": [
        "# Your code here\n",
        "x = int(input('Enter a value for num1: '))\n",
        "y = int(input('Enter a value for num2: '))\n",
        "name = input('What is your name: ')\n",
        "print(type(x),type(y),type(name))"
      ]
    },
    {
      "cell_type": "code",
      "source": [
        "print('Add:', x + y)\n",
        "print('Subtract:', x - y)\n",
        "print('Multiply:', x * y)\n",
        "print('Divide:', x / y)\n",
        "print('Floor Divide:', x // y)\n",
        "print('Exponent:', x ** 2)\n",
        "print(name + ' only has ' + str(x) + ' apples left after eating ' + str(y) + \" for lunch\")"
      ],
      "metadata": {
        "id": "Okx-VdMHHNkw",
        "outputId": "1e326c47-0dfa-495b-fc4a-5b1f08897fbf",
        "colab": {
          "base_uri": "https://localhost:8080/"
        }
      },
      "id": "Okx-VdMHHNkw",
      "execution_count": 40,
      "outputs": [
        {
          "output_type": "stream",
          "name": "stdout",
          "text": [
            "Add: 13\n",
            "Subtract: -1\n",
            "Multiply: 42\n",
            "Divide: 0.8571428571428571\n",
            "Floor Divide: 0\n",
            "Exponent: 36\n",
            "Carlos only has 6 apples left after eating 7 for lunch\n"
          ]
        }
      ]
    },
    {
      "cell_type": "markdown",
      "id": "069d6eba",
      "metadata": {
        "id": "069d6eba"
      },
      "source": [
        "## 📤 Submit\n",
        "Make sure your name is at the top in a Markdown cell.\n",
        "Submit via D2L or Colab link."
      ]
    }
  ],
  "metadata": {
    "colab": {
      "provenance": []
    },
    "language_info": {
      "name": "python"
    },
    "kernelspec": {
      "name": "python3",
      "display_name": "Python 3"
    }
  },
  "nbformat": 4,
  "nbformat_minor": 5
}