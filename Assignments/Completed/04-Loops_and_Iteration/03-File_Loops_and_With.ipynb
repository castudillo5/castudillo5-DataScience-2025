{
  "cells": [
    {
      "cell_type": "markdown",
      "id": "2843d4ba",
      "metadata": {
        "id": "2843d4ba"
      },
      "source": [
        "#Carlos Astudillo\n",
        "# 📘 03 - File Loops and `with`\n",
        "\n",
        "Use `with open(...)` to read files and process content."
      ]
    },
    {
      "cell_type": "markdown",
      "id": "4d270565",
      "metadata": {
        "id": "4d270565"
      },
      "source": [
        "## ✅ Learning Goals\n",
        "- Open and read files using `with`\n",
        "- Loop over lines in a file\n",
        "- Use `.strip()` and `.split()` to process text"
      ]
    },
    {
      "cell_type": "code",
      "execution_count": 10,
      "id": "4ac4df0a",
      "metadata": {
        "colab": {
          "base_uri": "https://localhost:8080/"
        },
        "id": "4ac4df0a",
        "outputId": "11277c12-e5d5-48b4-801c-696ad9418d48"
      },
      "outputs": [
        {
          "output_type": "stream",
          "name": "stdout",
          "text": [
            "Arsenal\n",
            "Man City\n",
            "Liverpool\n",
            "Bournemouth\n",
            "Chelsea\n",
            "Tottenham\n",
            "Sunderland\n",
            "Crystal Palace\n",
            "Man United\n",
            "Brighton\n",
            "Aston Villa\n",
            "Everton\n",
            "Brentford\n",
            "Newcastle\n",
            "Fulham\n",
            "Leeds United\n",
            "Burnley\n",
            "Nottingham Forest\n",
            "West ham\n",
            "Wolves\n"
          ]
        }
      ],
      "source": [
        "# 📝 Sample file read\n",
        "with open('/content/sample_data/sample.txt', 'r') as file:\n",
        "    for line in file:\n",
        "        print(line.strip())"
      ]
    },
    {
      "cell_type": "code",
      "execution_count": 3,
      "id": "4f430e6d",
      "metadata": {
        "colab": {
          "base_uri": "https://localhost:8080/"
        },
        "id": "4f430e6d",
        "outputId": "4ff8cb20-4a4a-40bb-b417-e641ae200ade"
      },
      "outputs": [
        {
          "output_type": "stream",
          "name": "stdout",
          "text": [
            "Parts: ['Arsenal']\n",
            "Parts: ['Man City']\n",
            "Parts: ['Liverpool']\n",
            "Parts: ['Bournemouth']\n",
            "Parts: ['Chelsea']\n",
            "Parts: ['Tottenham']\n",
            "Parts: ['Sunderland']\n",
            "Parts: ['Crystal Palace']\n",
            "Parts: ['Man United']\n",
            "Parts: ['Brighton']\n",
            "Parts: ['Aston Villa']\n",
            "Parts: ['Everton']\n",
            "Parts: ['Brentford']\n",
            "Parts: ['Newcastle']\n",
            "Parts: ['Fulham']\n",
            "Parts: ['Leeds United']\n",
            "Parts: ['Burnley']\n",
            "Parts: ['Nottingham Forest']\n",
            "Parts: ['West ham']\n",
            "Parts: ['Wolves']\n"
          ]
        }
      ],
      "source": [
        "# 🔍 Process each line\n",
        "with open('/content/sample_data/sample.txt', 'r') as f:\n",
        "    for line in f:\n",
        "        parts = line.strip().split(',')\n",
        "        print('Parts:', parts)"
      ]
    },
    {
      "cell_type": "markdown",
      "id": "c5f556e4",
      "metadata": {
        "id": "c5f556e4"
      },
      "source": [
        "### ✏️ Your Turn\n",
        "Open a text file and print all lines that contain more than 3 words."
      ]
    },
    {
      "cell_type": "code",
      "execution_count": 18,
      "id": "0c72a05f",
      "metadata": {
        "colab": {
          "base_uri": "https://localhost:8080/"
        },
        "id": "0c72a05f",
        "outputId": "b7e6689f-8885-4798-a5a2-200fd6212148"
      },
      "outputs": [
        {
          "output_type": "stream",
          "name": "stdout",
          "text": [
            "Man City\n",
            "Crystal Palace\n",
            "Man United\n",
            "Aston Villa\n",
            "Leeds United\n",
            "Nottingham Forest\n",
            "West ham\n"
          ]
        }
      ],
      "source": [
        "# Tip: use `len(line.split()) > 3` to check\n",
        "#switched it to 1 in order to fit my sample txt so it can read the teams with two words\n",
        "with open('/content/sample_data/sample.txt', 'r') as f:\n",
        "    for line in f:\n",
        "        if len(line.split()) > 1:\n",
        "            print(line.strip())"
      ]
    }
  ],
  "metadata": {
    "colab": {
      "provenance": []
    },
    "language_info": {
      "name": "python"
    },
    "kernelspec": {
      "name": "python3",
      "display_name": "Python 3"
    }
  },
  "nbformat": 4,
  "nbformat_minor": 5
}