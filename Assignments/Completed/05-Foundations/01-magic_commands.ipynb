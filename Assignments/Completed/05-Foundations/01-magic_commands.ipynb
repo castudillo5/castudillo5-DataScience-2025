{
  "cells": [
    {
      "cell_type": "markdown",
      "metadata": {
        "id": "8hJl2qBaTnyD"
      },
      "source": [
        "#Carlos Astudillo\n",
        "# 🧙 Magic Commands Demo Notebook\n",
        "\n",
        "This notebook introduces some of the most useful **IPython magic commands** in Jupyter.  \n",
        "Run each cell and see what happens!"
      ],
      "id": "8hJl2qBaTnyD"
    },
    {
      "cell_type": "markdown",
      "metadata": {
        "id": "yM1EBPvkTnyF"
      },
      "source": [
        "## 1. Timing and Performance"
      ],
      "id": "yM1EBPvkTnyF"
    },
    {
      "cell_type": "code",
      "execution_count": 1,
      "metadata": {
        "colab": {
          "base_uri": "https://localhost:8080/"
        },
        "id": "qSLSuvyQTnyF",
        "outputId": "c74b337f-c6f4-4e72-b7c4-c2512e626429"
      },
      "outputs": [
        {
          "output_type": "stream",
          "name": "stdout",
          "text": [
            "CPU times: user 22.1 ms, sys: 1.02 ms, total: 23.2 ms\n",
            "Wall time: 23.5 ms\n"
          ]
        },
        {
          "output_type": "execute_result",
          "data": {
            "text/plain": [
              "499999500000"
            ]
          },
          "metadata": {},
          "execution_count": 1
        }
      ],
      "source": [
        "%time sum(range(1_000_000))"
      ],
      "id": "qSLSuvyQTnyF"
    },
    {
      "cell_type": "code",
      "execution_count": 2,
      "metadata": {
        "colab": {
          "base_uri": "https://localhost:8080/"
        },
        "id": "w_Yw0anETnyG",
        "outputId": "73d7c28b-68f4-47bf-89fd-45367c7468f4"
      },
      "outputs": [
        {
          "output_type": "stream",
          "name": "stdout",
          "text": [
            "21.7 ms ± 561 µs per loop (mean ± std. dev. of 7 runs, 10 loops each)\n"
          ]
        }
      ],
      "source": [
        "%timeit sum(range(1_000_000))"
      ],
      "id": "w_Yw0anETnyG"
    },
    {
      "cell_type": "code",
      "execution_count": 3,
      "metadata": {
        "colab": {
          "base_uri": "https://localhost:8080/"
        },
        "id": "Ne_BjQ1mTnyG",
        "outputId": "7e0476fa-eae4-493b-ff56-0ec72d6b0c81"
      },
      "outputs": [
        {
          "output_type": "stream",
          "name": "stdout",
          "text": [
            "CPU times: user 117 ms, sys: 41 µs, total: 118 ms\n",
            "Wall time: 118 ms\n"
          ]
        }
      ],
      "source": [
        "%%time\n",
        "total = 0\n",
        "for i in range(1_000_000):\n",
        "    total += i"
      ],
      "id": "Ne_BjQ1mTnyG"
    },
    {
      "cell_type": "markdown",
      "metadata": {
        "id": "KyZO-pZlTnyG"
      },
      "source": [
        "## 2. Working with Files"
      ],
      "id": "KyZO-pZlTnyG"
    },
    {
      "cell_type": "code",
      "execution_count": 5,
      "metadata": {
        "colab": {
          "base_uri": "https://localhost:8080/",
          "height": 35
        },
        "id": "kQdia5Q0TnyG",
        "outputId": "965aa763-01d1-4cd9-9dde-763be855e0d4"
      },
      "outputs": [
        {
          "output_type": "execute_result",
          "data": {
            "text/plain": [
              "'/content'"
            ],
            "application/vnd.google.colaboratory.intrinsic+json": {
              "type": "string"
            }
          },
          "metadata": {},
          "execution_count": 5
        }
      ],
      "source": [
        "%pwd"
      ],
      "id": "kQdia5Q0TnyG"
    },
    {
      "cell_type": "code",
      "execution_count": 6,
      "metadata": {
        "colab": {
          "base_uri": "https://localhost:8080/"
        },
        "id": "8nCKJKsfTnyG",
        "outputId": "5a02e293-6b34-4ba9-9fc2-ce0dbd7eedc1"
      },
      "outputs": [
        {
          "output_type": "stream",
          "name": "stdout",
          "text": [
            "\u001b[0m\u001b[01;34msample_data\u001b[0m/\n"
          ]
        }
      ],
      "source": [
        "%ls"
      ],
      "id": "8nCKJKsfTnyG"
    },
    {
      "cell_type": "code",
      "execution_count": 7,
      "metadata": {
        "colab": {
          "base_uri": "https://localhost:8080/",
          "height": 52
        },
        "id": "IBy_kqDpTnyG",
        "outputId": "a826b5a1-ff1e-45a5-a0b6-19d8ff2bbe68"
      },
      "outputs": [
        {
          "output_type": "stream",
          "name": "stdout",
          "text": [
            "/\n"
          ]
        },
        {
          "output_type": "execute_result",
          "data": {
            "text/plain": [
              "'/'"
            ],
            "application/vnd.google.colaboratory.intrinsic+json": {
              "type": "string"
            }
          },
          "metadata": {},
          "execution_count": 7
        }
      ],
      "source": [
        "%cd ..\n",
        "%pwd"
      ],
      "id": "IBy_kqDpTnyG"
    },
    {
      "cell_type": "markdown",
      "metadata": {
        "id": "lSL4eJgITnyH"
      },
      "source": [
        "## 3. Variables in Memory"
      ],
      "id": "lSL4eJgITnyH"
    },
    {
      "cell_type": "code",
      "execution_count": 8,
      "metadata": {
        "colab": {
          "base_uri": "https://localhost:8080/"
        },
        "id": "YlS88l5-TnyH",
        "outputId": "984350c1-7bbe-49a1-f445-3a23301e7873"
      },
      "outputs": [
        {
          "output_type": "stream",
          "name": "stdout",
          "text": [
            "a\t b\t c\t i\t total\t \n"
          ]
        }
      ],
      "source": [
        "a = 42\n",
        "b = [1, 2, 3]\n",
        "c = {\"name\": \"Graylian\"}\n",
        "\n",
        "%who"
      ],
      "id": "YlS88l5-TnyH"
    },
    {
      "cell_type": "code",
      "execution_count": 9,
      "metadata": {
        "colab": {
          "base_uri": "https://localhost:8080/"
        },
        "id": "1ghD29rJTnyH",
        "outputId": "5e9fe310-5851-4f51-9318-1d0a8781e8f0"
      },
      "outputs": [
        {
          "output_type": "stream",
          "name": "stdout",
          "text": [
            "Variable   Type    Data/Info\n",
            "----------------------------\n",
            "a          int     42\n",
            "b          list    n=3\n",
            "c          dict    n=1\n",
            "i          int     999999\n",
            "total      int     499999500000\n"
          ]
        }
      ],
      "source": [
        "%whos"
      ],
      "id": "1ghD29rJTnyH"
    },
    {
      "cell_type": "code",
      "execution_count": 11,
      "metadata": {
        "colab": {
          "base_uri": "https://localhost:8080/"
        },
        "id": "gLTLB96ITnyH",
        "outputId": "d7273db5-eccd-4d9b-9ac6-10b678d62236"
      },
      "outputs": [
        {
          "name": "stdout",
          "output_type": "stream",
          "text": [
            "\n",
            "\n",
            "\n",
            "\n",
            "\n",
            "Once deleted, variables cannot be recovered. Proceed (y/[n])? n\n",
            "Nothing done.\n",
            "Once deleted, variables cannot be recovered. Proceed (y/[n])? n\n",
            "Once deleted, variables cannot be recovered. Proceed (y/[n])? n\n",
            "Once deleted, variables cannot be recovered. Proceed (y/[n])? n\n",
            "Once deleted, variables cannot be recovered. Proceed (y/[n])? n\n",
            "Once deleted, variables cannot be recovered. Proceed (y/[n])? n\n"
          ]
        }
      ],
      "source": [
        "#%reset"
      ],
      "id": "gLTLB96ITnyH"
    },
    {
      "cell_type": "markdown",
      "metadata": {
        "id": "TzDsCfruTnyH"
      },
      "source": [
        "## 4. Debugging and Introspection"
      ],
      "id": "TzDsCfruTnyH"
    },
    {
      "cell_type": "code",
      "execution_count": 13,
      "metadata": {
        "colab": {
          "base_uri": "https://localhost:8080/",
          "height": 139
        },
        "id": "z10efsc0TnyH",
        "outputId": "9f288dc1-228e-4129-a1d6-efaca04cfc55"
      },
      "outputs": [
        {
          "output_type": "error",
          "ename": "ZeroDivisionError",
          "evalue": "division by zero",
          "traceback": [
            "\u001b[0;31m---------------------------------------------------------------------------\u001b[0m",
            "\u001b[0;31mZeroDivisionError\u001b[0m                         Traceback (most recent call last)",
            "\u001b[0;32m/tmp/ipython-input-1455669704.py\u001b[0m in \u001b[0;36m<cell line: 0>\u001b[0;34m()\u001b[0m\n\u001b[0;32m----> 1\u001b[0;31m \u001b[0;36m1\u001b[0m \u001b[0;34m/\u001b[0m \u001b[0;36m0\u001b[0m\u001b[0;34m\u001b[0m\u001b[0;34m\u001b[0m\u001b[0m\n\u001b[0m",
            "\u001b[0;31mZeroDivisionError\u001b[0m: division by zero"
          ]
        }
      ],
      "source": [
        "1 / 0"
      ],
      "id": "z10efsc0TnyH"
    },
    {
      "cell_type": "code",
      "execution_count": 14,
      "metadata": {
        "colab": {
          "base_uri": "https://localhost:8080/"
        },
        "id": "qs5MjaMNTnyH",
        "outputId": "87228b62-a62a-4d70-e7bb-1d3899a3f9da"
      },
      "outputs": [
        {
          "output_type": "stream",
          "name": "stdout",
          "text": [
            "> \u001b[0;32m/tmp/ipython-input-1455669704.py\u001b[0m(1)\u001b[0;36m<cell line: 0>\u001b[0;34m()\u001b[0m\n",
            "\u001b[0;32m----> 1 \u001b[0;31m\u001b[0;36m1\u001b[0m \u001b[0;34m/\u001b[0m \u001b[0;36m0\u001b[0m\u001b[0;34m\u001b[0m\u001b[0;34m\u001b[0m\u001b[0m\n",
            "\u001b[0m\n",
            "--KeyboardInterrupt--\n",
            "\n",
            "KeyboardInterrupt: Interrupted by user\n"
          ]
        }
      ],
      "source": [
        "%debug"
      ],
      "id": "qs5MjaMNTnyH"
    },
    {
      "cell_type": "markdown",
      "metadata": {
        "id": "9J8vjJHcTnyH"
      },
      "source": [
        "## 5. Writing and Running Files"
      ],
      "id": "9J8vjJHcTnyH"
    },
    {
      "cell_type": "code",
      "execution_count": 15,
      "metadata": {
        "colab": {
          "base_uri": "https://localhost:8080/"
        },
        "id": "DV5oAEHfTnyH",
        "outputId": "0ad58bc1-2d4e-46ba-b8d5-e0ad08b52446"
      },
      "outputs": [
        {
          "output_type": "stream",
          "name": "stdout",
          "text": [
            "Writing hello.py\n"
          ]
        }
      ],
      "source": [
        "%%writefile hello.py\n",
        "print(\"Hello from a file!\")"
      ],
      "id": "DV5oAEHfTnyH"
    },
    {
      "cell_type": "code",
      "execution_count": 16,
      "metadata": {
        "colab": {
          "base_uri": "https://localhost:8080/"
        },
        "id": "Xa75qPmsTnyI",
        "outputId": "105f0280-a2ab-4f03-c881-ddacca64e9d7"
      },
      "outputs": [
        {
          "output_type": "stream",
          "name": "stdout",
          "text": [
            "Hello from a file!\n"
          ]
        }
      ],
      "source": [
        "%run hello.py"
      ],
      "id": "Xa75qPmsTnyI"
    },
    {
      "cell_type": "markdown",
      "metadata": {
        "id": "JVqUAfD_TnyI"
      },
      "source": [
        "## 6. Output and Formatting"
      ],
      "id": "JVqUAfD_TnyI"
    },
    {
      "cell_type": "code",
      "execution_count": 26,
      "metadata": {
        "id": "bnkgCAcHTnyI"
      },
      "outputs": [],
      "source": [
        "%%capture cap\n",
        "print(\"This will not display right away\")\n",
        "cap.show()"
      ],
      "id": "bnkgCAcHTnyI"
    },
    {
      "cell_type": "code",
      "execution_count": 20,
      "metadata": {
        "colab": {
          "base_uri": "https://localhost:8080/",
          "height": 74
        },
        "id": "nVzJ4bvETnyI",
        "outputId": "9a163d88-cf1b-4cee-aa45-b18a2e0766e7"
      },
      "outputs": [
        {
          "output_type": "display_data",
          "data": {
            "text/plain": [
              "<IPython.core.display.HTML object>"
            ],
            "text/html": [
              "<h1 style=\"color: maroon\">Magics are Magical ✨</h1>\n"
            ]
          },
          "metadata": {}
        }
      ],
      "source": [
        "%%html\n",
        "<h1 style=\"color: maroon\">Magics are Magical ✨</h1>"
      ],
      "id": "nVzJ4bvETnyI"
    },
    {
      "cell_type": "code",
      "execution_count": 27,
      "metadata": {
        "colab": {
          "base_uri": "https://localhost:8080/",
          "height": 99
        },
        "id": "NvKXKgZ3TnyI",
        "outputId": "6701fc13-77b6-4c2d-c0fa-76ce64d0f3a8"
      },
      "outputs": [
        {
          "output_type": "display_data",
          "data": {
            "text/plain": [
              "<IPython.core.display.Markdown object>"
            ],
            "text/markdown": "# This is a Markdown cell inside code!\n**Bold text** and *italic* still work.\n"
          },
          "metadata": {}
        }
      ],
      "source": [
        "%%markdown\n",
        "# This is a Markdown cell inside code!\n",
        "**Bold text** and *italic* still work."
      ],
      "id": "NvKXKgZ3TnyI"
    },
    {
      "cell_type": "markdown",
      "metadata": {
        "id": "UYWhrDvXTnyI"
      },
      "source": [
        "## 7. Discover More"
      ],
      "id": "UYWhrDvXTnyI"
    },
    {
      "cell_type": "code",
      "execution_count": 18,
      "metadata": {
        "colab": {
          "base_uri": "https://localhost:8080/",
          "height": 1000
        },
        "id": "1wGEEytHTnyI",
        "outputId": "af7594f6-00dd-428a-d123-f6f837bd89c3"
      },
      "outputs": [
        {
          "output_type": "execute_result",
          "data": {
            "text/plain": [
              "Available line magics:\n",
              "%alias  %alias_magic  %autoawait  %autocall  %automagic  %autosave  %bookmark  %cat  %cd  %clear  %colors  %conda  %config  %connect_info  %cp  %debug  %dhist  %dirs  %doctest_mode  %ed  %edit  %env  %gui  %hist  %history  %killbgscripts  %ldir  %less  %lf  %lk  %ll  %load  %load_ext  %loadpy  %logoff  %logon  %logstart  %logstate  %logstop  %ls  %lsmagic  %lx  %macro  %magic  %man  %matplotlib  %mkdir  %more  %mv  %notebook  %page  %pastebin  %pdb  %pdef  %pdoc  %pfile  %pinfo  %pinfo2  %pip  %popd  %pprint  %precision  %prun  %psearch  %psource  %pushd  %pwd  %pycat  %pylab  %qtconsole  %quickref  %recall  %rehashx  %reload_ext  %rep  %rerun  %reset  %reset_selective  %rm  %rmdir  %run  %save  %sc  %set_env  %shell  %store  %sx  %system  %tb  %tensorflow_version  %time  %timeit  %unalias  %unload_ext  %who  %who_ls  %whos  %xdel  %xmode\n",
              "\n",
              "Available cell magics:\n",
              "%%!  %%HTML  %%SVG  %%bash  %%bigquery  %%capture  %%debug  %%file  %%html  %%javascript  %%js  %%latex  %%markdown  %%perl  %%prun  %%pypy  %%python  %%python2  %%python3  %%ruby  %%script  %%sh  %%shell  %%spanner_graph  %%svg  %%sx  %%system  %%time  %%timeit  %%writefile\n",
              "\n",
              "Automagic is ON, % prefix IS NOT needed for line magics."
            ],
            "application/json": {
              "line": {
                "automagic": "AutoMagics",
                "autocall": "AutoMagics",
                "alias_magic": "BasicMagics",
                "lsmagic": "BasicMagics",
                "magic": "BasicMagics",
                "page": "BasicMagics",
                "pprint": "BasicMagics",
                "colors": "BasicMagics",
                "xmode": "BasicMagics",
                "quickref": "BasicMagics",
                "doctest_mode": "BasicMagics",
                "gui": "BasicMagics",
                "precision": "BasicMagics",
                "notebook": "BasicMagics",
                "save": "CodeMagics",
                "pastebin": "CodeMagics",
                "loadpy": "CodeMagics",
                "load": "CodeMagics",
                "edit": "KernelMagics",
                "config": "ConfigMagics",
                "prun": "ExecutionMagics",
                "pdb": "ExecutionMagics",
                "debug": "ExecutionMagics",
                "tb": "ExecutionMagics",
                "run": "ExecutionMagics",
                "timeit": "ExecutionMagics",
                "time": "ExecutionMagics",
                "macro": "ExecutionMagics",
                "load_ext": "ExtensionMagics",
                "unload_ext": "ExtensionMagics",
                "reload_ext": "ExtensionMagics",
                "history": "HistoryMagics",
                "recall": "HistoryMagics",
                "rerun": "HistoryMagics",
                "logstart": "LoggingMagics",
                "logstop": "LoggingMagics",
                "logoff": "LoggingMagics",
                "logon": "LoggingMagics",
                "logstate": "LoggingMagics",
                "pinfo": "NamespaceMagics",
                "pinfo2": "NamespaceMagics",
                "pdef": "NamespaceMagics",
                "pdoc": "NamespaceMagics",
                "psource": "NamespaceMagics",
                "pfile": "NamespaceMagics",
                "psearch": "NamespaceMagics",
                "who_ls": "NamespaceMagics",
                "who": "NamespaceMagics",
                "whos": "NamespaceMagics",
                "reset": "NamespaceMagics",
                "reset_selective": "NamespaceMagics",
                "xdel": "NamespaceMagics",
                "alias": "OSMagics",
                "unalias": "OSMagics",
                "rehashx": "OSMagics",
                "pwd": "OSMagics",
                "cd": "OSMagics",
                "env": "OSMagics",
                "set_env": "OSMagics",
                "pushd": "OSMagics",
                "popd": "OSMagics",
                "dirs": "OSMagics",
                "dhist": "OSMagics",
                "sc": "OSMagics",
                "sx": "OSMagics",
                "system": "OSMagics",
                "bookmark": "OSMagics",
                "pycat": "OSMagics",
                "pip": "Other",
                "conda": "PackagingMagics",
                "matplotlib": "PylabMagics",
                "pylab": "PylabMagics",
                "killbgscripts": "ScriptMagics",
                "autoawait": "AsyncMagics",
                "ed": "Other",
                "hist": "Other",
                "rep": "Other",
                "clear": "KernelMagics",
                "less": "KernelMagics",
                "more": "KernelMagics",
                "man": "KernelMagics",
                "connect_info": "KernelMagics",
                "qtconsole": "KernelMagics",
                "autosave": "KernelMagics",
                "mkdir": "Other",
                "rmdir": "Other",
                "mv": "Other",
                "rm": "Other",
                "cp": "Other",
                "cat": "Other",
                "ls": "Other",
                "ll": "Other",
                "lf": "Other",
                "lk": "Other",
                "ldir": "Other",
                "lx": "Other",
                "store": "StoreMagics",
                "shell": "Other",
                "tensorflow_version": "Other"
              },
              "cell": {
                "js": "DisplayMagics",
                "javascript": "DisplayMagics",
                "latex": "DisplayMagics",
                "svg": "DisplayMagics",
                "html": "DisplayMagics",
                "markdown": "DisplayMagics",
                "prun": "ExecutionMagics",
                "debug": "ExecutionMagics",
                "timeit": "ExecutionMagics",
                "time": "ExecutionMagics",
                "capture": "ExecutionMagics",
                "sx": "OSMagics",
                "system": "OSMagics",
                "!": "OSMagics",
                "writefile": "OSMagics",
                "script": "ScriptMagics",
                "sh": "Other",
                "bash": "Other",
                "perl": "Other",
                "ruby": "Other",
                "python": "Other",
                "python2": "Other",
                "python3": "Other",
                "pypy": "Other",
                "SVG": "Other",
                "HTML": "Other",
                "file": "Other",
                "bigquery": "Other",
                "spanner_graph": "Other",
                "shell": "Other"
              }
            }
          },
          "metadata": {},
          "execution_count": 18
        }
      ],
      "source": [
        "%lsmagic"
      ],
      "id": "1wGEEytHTnyI"
    },
    {
      "cell_type": "code",
      "execution_count": 28,
      "metadata": {
        "id": "LCO5MSoeTnyI"
      },
      "outputs": [],
      "source": [
        "%timeit?"
      ],
      "id": "LCO5MSoeTnyI"
    },
    {
      "cell_type": "markdown",
      "metadata": {
        "id": "cbySR1saTnyI"
      },
      "source": [
        "✅ **Try It Yourself**:  \n",
        "- Use `%timeit` to compare a list comprehension `[x**2 for x in range(1000)]` vs a generator `(x**2 for x in range(1000))`.  \n",
        "- Use `%whos` after defining some variables to see their types.  \n",
        "- Use `%%html` to make your own banner."
      ],
      "id": "cbySR1saTnyI"
    },
    {
      "cell_type": "code",
      "source": [
        "%timeit [x**2 for x in range(1000)] # List Comprehension\n",
        "%timeit (x**2 for x in range(1000)) # Generator\n"
      ],
      "metadata": {
        "colab": {
          "base_uri": "https://localhost:8080/"
        },
        "id": "F0VNQg9NT67Q",
        "outputId": "972050c1-956a-471f-b8ef-1f8dd77e9d85"
      },
      "id": "F0VNQg9NT67Q",
      "execution_count": 29,
      "outputs": [
        {
          "output_type": "stream",
          "name": "stdout",
          "text": [
            "80.9 µs ± 22.1 µs per loop (mean ± std. dev. of 7 runs, 10000 loops each)\n",
            "311 ns ± 75.6 ns per loop (mean ± std. dev. of 7 runs, 1000000 loops each)\n"
          ]
        }
      ]
    },
    {
      "cell_type": "code",
      "source": [
        "a = 67\n",
        "b = [8,5,6,9]\n",
        "c = {\"Team\":\"Arsenal\"}\n",
        "%who"
      ],
      "metadata": {
        "id": "yC3XXwLjW02e",
        "outputId": "6ddc82df-53e7-42a7-dc2d-557e5304c360",
        "colab": {
          "base_uri": "https://localhost:8080/"
        }
      },
      "id": "yC3XXwLjW02e",
      "execution_count": 30,
      "outputs": [
        {
          "output_type": "stream",
          "name": "stdout",
          "text": [
            "a\t b\t c\t cap\t i\t total\t \n"
          ]
        }
      ]
    },
    {
      "cell_type": "code",
      "source": [
        "%whos"
      ],
      "metadata": {
        "id": "zyiQUL1mXrVt",
        "outputId": "aec5e9c1-cc69-430d-fdf4-fb5d1a163913",
        "colab": {
          "base_uri": "https://localhost:8080/"
        }
      },
      "id": "zyiQUL1mXrVt",
      "execution_count": 31,
      "outputs": [
        {
          "output_type": "stream",
          "name": "stdout",
          "text": [
            "Variable   Type          Data/Info\n",
            "----------------------------------\n",
            "a          int           67\n",
            "b          list          n=4\n",
            "c          dict          n=1\n",
            "cap        CapturedIO    This will not display rig<...> not display right away\\n\n",
            "i          int           999999\n",
            "total      int           499999500000\n"
          ]
        }
      ]
    },
    {
      "cell_type": "code",
      "source": [
        "%%html\n",
        "<h1 style=\"color: CYAN\">Arsenal is the best team in the world!!!! </h2>"
      ],
      "metadata": {
        "id": "Y7aX6J_iX21H",
        "outputId": "6695d6da-d82d-4cd4-c9ab-03053c87dd8f",
        "colab": {
          "base_uri": "https://localhost:8080/",
          "height": 74
        }
      },
      "id": "Y7aX6J_iX21H",
      "execution_count": 35,
      "outputs": [
        {
          "output_type": "display_data",
          "data": {
            "text/plain": [
              "<IPython.core.display.HTML object>"
            ],
            "text/html": [
              "<h1 style=\"color: CYAN\">Arsenal is the best team in the world!!!! </h2>\n"
            ]
          },
          "metadata": {}
        }
      ]
    }
  ],
  "metadata": {
    "kernelspec": {
      "display_name": "env",
      "language": "python",
      "name": "python3"
    },
    "language_info": {
      "codemirror_mode": {
        "name": "ipython",
        "version": 3
      },
      "file_extension": ".py",
      "mimetype": "text/x-python",
      "name": "python",
      "nbconvert_exporter": "python",
      "pygments_lexer": "ipython3",
      "version": "3.13.7"
    },
    "colab": {
      "provenance": []
    }
  },
  "nbformat": 4,
  "nbformat_minor": 5
}